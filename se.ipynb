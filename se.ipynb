{
 "cells": [
  {
   "cell_type": "code",
   "execution_count": 2,
   "metadata": {},
   "outputs": [
    {
     "name": "stdout",
     "output_type": "stream",
     "text": [
      "[2, 589, 865, 28, 475, 759, 136, 158, 713, 328, 219, 848, 744, 619]\n",
      "[2, 28, 136, 158, 219, 328, 475, 589, 619, 713, 744, 759, 848, 865]\n"
     ]
    },
    {
     "ename": "AssertionError",
     "evalue": "Not Equal",
     "output_type": "error",
     "traceback": [
      "\u001b[1;31m---------------------------------------------------------------------------\u001b[0m",
      "\u001b[1;31mAssertionError\u001b[0m                            Traceback (most recent call last)",
      "Cell \u001b[1;32mIn[2], line 44\u001b[0m\n\u001b[0;32m     42\u001b[0m \u001b[39mprint\u001b[39m(arr)\n\u001b[0;32m     43\u001b[0m \u001b[39mprint\u001b[39m(ls)\n\u001b[1;32m---> 44\u001b[0m \u001b[39massert\u001b[39;00m ls \u001b[39m==\u001b[39m arr, \u001b[39m\"\u001b[39m\u001b[39mNot Equal\u001b[39m\u001b[39m\"\u001b[39m\n\u001b[0;32m     46\u001b[0m driver\u001b[39m.\u001b[39mquit()\n",
      "\u001b[1;31mAssertionError\u001b[0m: Not Equal"
     ]
    }
   ],
   "source": [
    "from selenium import webdriver\n",
    "from selenium.webdriver.chrome.options import Options\n",
    "from selenium.webdriver.chrome.service import Service\n",
    "from selenium.webdriver.common.desired_capabilities import DesiredCapabilities\n",
    "\n",
    "options = Options()\n",
    "options.add_argument('--start-minimized')\n",
    "\n",
    "service = Service()\n",
    "\n",
    "dc = DesiredCapabilities.CHROME\n",
    "dc['loggingPrefs'] = { 'browser':'ALL' }\n",
    "\n",
    "driver = webdriver.Chrome(options=options, service=service, desired_capabilities=dc)\n",
    "driver.get(r'file:///C:/Users/Dell%209010/Desktop/SortingAlgorithmsVisualizer/index.html')\n",
    "\n",
    "file_input = driver.find_element('id',\"formFile\")\n",
    "file_input.send_keys(r\"C:\\Users\\Dell 9010\\Desktop\\input.txt\")           # check with input.txt and inputw.txt\n",
    "\n",
    "submit_button = driver.find_element('xpath',\"//button[@id='bub-btn']\")  # check with ins-btn and bub-btn\n",
    "submit_button.send_keys(\"\\n\")\n",
    "\n",
    "import ast\n",
    "\n",
    "f = open(\"input.txt\", \"r\")                                              # check with input.txt and inputw.txt\n",
    "ls = ast.literal_eval(f.readline())\n",
    "arr = driver.execute_script('return data')\n",
    "ls = ls.split(',')\n",
    "\n",
    "check = False\n",
    "for ch in ls:\n",
    "    if ch.isdigit() == False:\n",
    "        check = True\n",
    "        break\n",
    "\n",
    "assert check != True, 'Character present in the list'\n",
    "\n",
    "ls = [int(val) for val in ls]\n",
    "ls = sorted(ls)\n",
    "arr = [int(val) for val in arr]\n",
    "\n",
    "print(arr)\n",
    "print(ls)\n",
    "assert ls == arr, \"Not Equal\"\n",
    "\n",
    "driver.quit()"
   ]
  }
 ],
 "metadata": {
  "kernelspec": {
   "display_name": "Python 3",
   "language": "python",
   "name": "python3"
  },
  "language_info": {
   "codemirror_mode": {
    "name": "ipython",
    "version": 3
   },
   "file_extension": ".py",
   "mimetype": "text/x-python",
   "name": "python",
   "nbconvert_exporter": "python",
   "pygments_lexer": "ipython3",
   "version": "3.11.2"
  },
  "orig_nbformat": 4
 },
 "nbformat": 4,
 "nbformat_minor": 2
}
