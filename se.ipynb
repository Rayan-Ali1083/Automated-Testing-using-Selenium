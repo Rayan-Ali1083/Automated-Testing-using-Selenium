{
 "cells": [
  {
   "cell_type": "code",
   "execution_count": 8,
   "metadata": {},
   "outputs": [
    {
     "name": "stdout",
     "output_type": "stream",
     "text": [
      "[2, 28, 136, 158, 219, 328, 475, 589, 619, 713, 744, 759, 848, 865]\n",
      "[2, 28, 136, 158, 219, 328, 475, 589, 619, 713, 744, 759, 848, 865]\n",
      "Validated\n"
     ]
    }
   ],
   "source": [
    "from selenium import webdriver\n",
    "from selenium.webdriver.chrome.options import Options\n",
    "from selenium.webdriver.chrome.service import Service\n",
    "from selenium.webdriver.common.desired_capabilities import DesiredCapabilities\n",
    "\n",
    "options = Options()\n",
    "options.add_argument('--start-minimized')\n",
    "\n",
    "service = Service()\n",
    "\n",
    "dc = DesiredCapabilities.CHROME\n",
    "dc['loggingPrefs'] = { 'browser':'ALL' }\n",
    "\n",
    "driver = webdriver.Chrome(options=options, service=service, desired_capabilities=dc)\n",
    "driver.get(r'https://rayan-ali1083.github.io/Automated-Testing-using-Selenium/')\n",
    "\n",
    "file_input = driver.find_element('id',\"formFile\")\n",
    "\n",
    "file_input.send_keys(r\"C:\\Users\\Dell 9010\\Desktop\\Automated-Testing-using-Selenium\\input.txt\")          # check with input.txt and inputw.txt\n",
    "\n",
    "# btn is intentionally coded wrong so that even if the input file contains numbers, on comparing ls and arr assert should give error\n",
    "\n",
    "submit_button = driver.find_element('xpath',\"//button[@id='ins-btn']\")                                  # check with ins-btn and bub-btn\n",
    "submit_button.send_keys(\"\\n\")\n",
    "\n",
    "import ast\n",
    "\n",
    "f = open(\"input.txt\", \"r\")                                                                              # check with input.txt and inputw.txt\n",
    "                                             \n",
    "ls = ast.literal_eval(f.readline())\n",
    "arr = driver.execute_script('return data')\n",
    "ls = ls.split(',')\n",
    "\n",
    "check = False\n",
    "for ch in ls:\n",
    "    if ch.isdigit() == False:\n",
    "        check = True\n",
    "        break\n",
    "\n",
    "assert check != True, 'Character present in the list, Defect Testing'\n",
    "\n",
    "ls = [int(val) for val in ls]\n",
    "ls = sorted(ls)\n",
    "arr = [int(val) for val in arr]\n",
    "\n",
    "print(arr)\n",
    "print(ls)\n",
    "assert ls == arr, \"Not Equal, Defect Testing\"\n",
    "print('Validated')\n",
    "\n",
    "driver.quit()"
   ]
  }
 ],
 "metadata": {
  "kernelspec": {
   "display_name": "Python 3",
   "language": "python",
   "name": "python3"
  },
  "language_info": {
   "codemirror_mode": {
    "name": "ipython",
    "version": 3
   },
   "file_extension": ".py",
   "mimetype": "text/x-python",
   "name": "python",
   "nbconvert_exporter": "python",
   "pygments_lexer": "ipython3",
   "version": "3.11.2"
  },
  "orig_nbformat": 4
 },
 "nbformat": 4,
 "nbformat_minor": 2
}
